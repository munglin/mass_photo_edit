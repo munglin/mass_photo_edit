{
 "cells": [
  {
   "cell_type": "code",
   "execution_count": 95,
   "id": "f4918379-f330-467a-beb8-1082d321ffd6",
   "metadata": {},
   "outputs": [],
   "source": [
    "from glob import glob\n",
    "from exif import Image as ExifImage\n",
    "from PIL import Image \n",
    "from PIL import ExifTags\n",
    "import datetime \n",
    "import piexif"
   ]
  },
  {
   "cell_type": "code",
   "execution_count": 29,
   "id": "dc5eae98-78b5-4f80-9bfd-47c3721d3d01",
   "metadata": {},
   "outputs": [],
   "source": [
    "def add_offset(exif_dict, offset):\n",
    "    time_curr = exif_dict['0th'][piexif.ImageIFD.DateTime]\n",
    "\n",
    "    time_new = datetime.datetime.strptime(time, \"%Y:%m:%d %H:%M:%S\") + datetime.timedelta(days=offset)\n",
    "    time_new = time_new.strftime('%Y:%m:%d %H:%M:%S')\n",
    "    \n",
    "    exif_dict['0th'][piexif.ImageIFD.DateTime] = time_new\n",
    "    exif_dict['Exif'][piexif.ExifIFD.DateTimeOriginal] = time_new\n",
    "    exif_dict['Exif'][piexif.ExifIFD.DateTimeDigitized] = time_new\n",
    "    return exif_dict\n"
   ]
  },
  {
   "cell_type": "code",
   "execution_count": 115,
   "id": "0f92003b-ffc9-45ef-bb38-ab626007bcef",
   "metadata": {},
   "outputs": [],
   "source": []
  },
  {
   "cell_type": "code",
   "execution_count": 119,
   "id": "d45959cc-d92a-435c-807a-ab814ac1169b",
   "metadata": {},
   "outputs": [
    {
     "data": {
      "text/plain": [
       "'2033:07:26 13:48:26'"
      ]
     },
     "execution_count": 119,
     "metadata": {},
     "output_type": "execute_result"
    }
   ],
   "source": []
  },
  {
   "cell_type": "code",
   "execution_count": 43,
   "id": "5fd1327c-1c52-4d59-ab40-a16d172e2049",
   "metadata": {},
   "outputs": [
    {
     "data": {
      "text/plain": [
       "b'2023:10:14 12:57:32'"
      ]
     },
     "execution_count": 43,
     "metadata": {},
     "output_type": "execute_result"
    }
   ],
   "source": [
    "str(exif_dict['0th'][306])"
   ]
  },
  {
   "cell_type": "code",
   "execution_count": 17,
   "id": "5edfa685-e8df-4b97-8c12-6ab0481b8fb9",
   "metadata": {},
   "outputs": [],
   "source": [
    "# Get list of images in a list\n",
    "image_list = glob('*.JPG') + glob('*.NEF')"
   ]
  },
  {
   "cell_type": "code",
   "execution_count": 129,
   "id": "e30f0a1e-e0d3-44ca-aa60-12a7832efee4",
   "metadata": {},
   "outputs": [
    {
     "name": "stdout",
     "output_type": "stream",
     "text": [
      "DSC_7344.JPG\n"
     ]
    }
   ],
   "source": [
    "# loop through photos\n",
    "offset = 3573\n",
    "for img in image_list:\n",
    "    \n",
    "    if int(img[-8:-4]) < 7786:\n",
    "        exif_dict = piexif.load(img)\n",
    "        time_curr = str(exif_dict['0th'][306])\n",
    "        time_new = datetime.datetime.strptime(time_curr, \"b'%Y:%m:%d %H:%M:%S'\") + datetime.timedelta(days = offset)\n",
    "        exif_dict['0th'][306] = time_new.strftime('%Y:%m:%d %H:%M:%S')\n",
    "        exif_dict['Exif'][piexif.ExifIFD.DateTimeOriginal] = time_new.strftime('%Y:%m:%d %H:%M:%S')\n",
    "        exif_dict['Exif'][piexif.ExifIFD.DateTimeDigitized] = time_new.strftime('%Y:%m:%d %H:%M:%S')\n",
    "        exif_bytes = piexif.dump(exif_dict)\n",
    "        try:\n",
    "            piexif.insert(exif_bytes, img)\n",
    "        except:\n",
    "            print(img)\n",
    "    \n",
    "#        exif_dict = piexif.load(img)\n",
    "#        exif_dict_updated = add_offset(exif_dict, 3573)\n",
    "#        exif_bytes = piexif.dump(exif_dict_updated)\n",
    "#        piexif.insert(exif_bytes, img)\n",
    "\n",
    "        \n",
    "#        with open(img, \"rb\") as input_file:\n",
    "#            exif_img = ExifImage(input_file)\n",
    "            \n",
    "#        time = exif_img.datetime\n",
    "#        time_new = datetime.datetime.strptime(time, \"%Y:%m:%d %H:%M:%S\") + datetime.timedelta(days=offset)\n",
    "#        exif_img.datetime = time_new.strftime('%Y:%m:%d %H:%M:%S')\n",
    "        \n",
    "#    print(exif_img.datetime)\n",
    "#    with open(img, \"wb\") as ofile:\n",
    "#        ofile.write(exif_img.get_file())"
   ]
  },
  {
   "cell_type": "code",
   "execution_count": 126,
   "id": "56892e56-bb5c-41e7-8a05-7d856fb0132a",
   "metadata": {},
   "outputs": [],
   "source": [
    "import datetime"
   ]
  },
  {
   "cell_type": "code",
   "execution_count": 154,
   "id": "1b5e18f4-7c6d-4fa2-82a3-66efe8acbb4b",
   "metadata": {},
   "outputs": [
    {
     "data": {
      "text/plain": [
       "datetime.datetime(2033, 8, 27, 13, 28, 53)"
      ]
     },
     "execution_count": 154,
     "metadata": {},
     "output_type": "execute_result"
    }
   ],
   "source": []
  },
  {
   "cell_type": "code",
   "execution_count": 68,
   "id": "f55fa7f4-7079-4d2e-be12-7692c98b6567",
   "metadata": {},
   "outputs": [
    {
     "data": {
      "text/plain": [
       "'DSC_9876-2.jpg'"
      ]
     },
     "execution_count": 68,
     "metadata": {},
     "output_type": "execute_result"
    }
   ],
   "source": [
    "img"
   ]
  }
 ],
 "metadata": {
  "kernelspec": {
   "display_name": "Python 3 (ipykernel)",
   "language": "python",
   "name": "python3"
  },
  "language_info": {
   "codemirror_mode": {
    "name": "ipython",
    "version": 3
   },
   "file_extension": ".py",
   "mimetype": "text/x-python",
   "name": "python",
   "nbconvert_exporter": "python",
   "pygments_lexer": "ipython3",
   "version": "3.11.7"
  }
 },
 "nbformat": 4,
 "nbformat_minor": 5
}
